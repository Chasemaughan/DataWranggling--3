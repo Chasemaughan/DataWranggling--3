{
 "cells": [
  {
   "cell_type": "markdown",
   "metadata": {},
   "source": [
    "1. Diabetes Set: (20 Points)\n",
    "a. Find all patients with Diabetes using the codes above by listing their patient IDs.\n",
    "b. Find the cardinality of the Diabetes set.\n"
   ]
  },
  {
   "cell_type": "markdown",
   "metadata": {},
   "source": [
    "2. COVID Set: (20 Points)\n",
    "a. Find all patients with COVID using the codes above by listing their patient IDs.\n",
    "b. Find the cardinality of the COVID set.\n"
   ]
  },
  {
   "cell_type": "markdown",
   "metadata": {},
   "source": [
    "3. Intersection Set (20 Points)\n",
    "a. Find all patients with Diabetes and COVID using the codes above by listing their patient\n",
    "IDs.\n",
    "b. Find the cardinality of the Intersection set.\n"
   ]
  },
  {
   "cell_type": "markdown",
   "metadata": {},
   "source": [
    "4. Union Set (20 Points)\n",
    "a. Find all patients with Diabetes or COVID using the codes above by listing their patient\n",
    "IDs.\n",
    "b. Find the cardinality of the Intersection set\n"
   ]
  },
  {
   "cell_type": "markdown",
   "metadata": {},
   "source": [
    "5. Draw a Venn diagram showing the Diabetes, COVID, Intersection and Union sets. You might need\n",
    "to use a package. (40 points)\n"
   ]
  },
  {
   "cell_type": "markdown",
   "metadata": {},
   "source": [
    "6. Diabetes only after COVID Set (30 points)\n",
    "a. Now including the date of diagnosis, find all patients with Diabetes only after they had\n",
    "COVID by listing their patient IDs.\n",
    "b. Find the cardinality of the Diabetes only after COVID set.\n",
    "c. Provide a count breakdown for each of the diabetes codes listed above occurring only\n",
    "after COVID."
   ]
  },
  {
   "cell_type": "code",
   "execution_count": null,
   "metadata": {},
   "outputs": [],
   "source": []
  },
  {
   "cell_type": "markdown",
   "metadata": {},
   "source": []
  },
  {
   "cell_type": "code",
   "execution_count": null,
   "metadata": {},
   "outputs": [],
   "source": []
  }
 ],
 "metadata": {
  "kernelspec": {
   "display_name": "Python 3",
   "language": "python",
   "name": "python3"
  },
  "language_info": {
   "name": "python",
   "version": "3.11.8"
  }
 },
 "nbformat": 4,
 "nbformat_minor": 2
}
